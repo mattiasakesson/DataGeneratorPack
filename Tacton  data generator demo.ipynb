{
 "cells": [
  {
   "cell_type": "markdown",
   "metadata": {},
   "source": [
    "This tutorial will show how to use and modify the data generator pack for Tacton.\n",
    "Data objects that are relevant for this project are:\n",
    "C_data - Combination data, \n",
    "D_data - Discount data, \n",
    "p_data - probability data, \n",
    "deal_data - Quote outcome. \n",
    "For more information regarding the algorithms behind the data generator: \n",
    "https://docs.google.com/document/d/10QUrTwTu61wxq57S-zQgsrRc2BtC6QuKa8mXj4Q4f84/edit"
   ]
  },
  {
   "cell_type": "code",
   "execution_count": 1,
   "metadata": {},
   "outputs": [],
   "source": [
    "import numpy as np\n",
    "from matplotlib import pylab as plt\n",
    "from generate_cpq_data_class import *\n"
   ]
  },
  {
   "cell_type": "markdown",
   "metadata": {},
   "source": [
    "The Generator_pack creates a C-gen (Combinations/dimensions-generator), D_gen (Discount-generator), a P (Probability function) and a corresponding P_gen (Probability-generator).\n",
    "\n",
    "We start this tutortial by initiate a Generator_pack G. discount_max, discount_min, discount_mean, discount_std are parameters for the distribution of the discount data (truncated normal distribution). mean_p and max_p are parameters for the probability distribution. "
   ]
  },
  {
   "cell_type": "code",
   "execution_count": 2,
   "metadata": {},
   "outputs": [],
   "source": [
    "G=Generator_pack(discount_max = 0.4, discount_min=0, discount_mean = 0.15, discount_std = 0.2, mean_p = 0.2,\n",
    "                  max_p = 0.4)\n",
    "\n"
   ]
  },
  {
   "cell_type": "markdown",
   "metadata": {},
   "source": [
    "To generate C-data and D-data from the Generator_pack G we just call G.C_gen(nr=50000) and G.D_gen(nr=50000), where nr is the number of data points you want to sample. "
   ]
  },
  {
   "cell_type": "code",
   "execution_count": 3,
   "metadata": {},
   "outputs": [],
   "source": [
    "C_data = G.C_gen(nr=50000)\n",
    "D_data = G.D_gen(nr=50000)\n",
    "\n"
   ]
  },
  {
   "cell_type": "markdown",
   "metadata": {},
   "source": [
    "When we have C_data and D_data we can use G.P_gen to produce p_data (probability data), deal_data (Quote outcome: win=1, loss=0), y_data (meta data describing the probability function of p given C, y[:,0] = k and y[:,1] = m).  "
   ]
  },
  {
   "cell_type": "code",
   "execution_count": 4,
   "metadata": {},
   "outputs": [],
   "source": [
    "y_data, p_data, deal_data =G.P_gen(C_data,D_data)"
   ]
  },
  {
   "cell_type": "markdown",
   "metadata": {},
   "source": [
    "Plotting the distribution of the generated data"
   ]
  },
  {
   "cell_type": "code",
   "execution_count": 5,
   "metadata": {},
   "outputs": [
    {
     "data": {
      "image/png": "[encoded data removed]",
      "text/plain": [
       "<Figure size 1080x504 with 6 Axes>"
      ]
     },
     "metadata": {},
     "output_type": "display_data"
    }
   ],
   "source": [
    "u, frac = np.unique(deal_data, return_counts=True)\n",
    "\n",
    "# Ploting the distribution of the generated data\n",
    "bins = 25\n",
    "f, ax = plt.subplots(2,3,figsize=(15,7))\n",
    "ax[0,0].hist(y_data[:,0],bins=bins)\n",
    "ax[0,0].set_title(\"f(C) distribution\")\n",
    "ax[0,1].hist(y_data[:,1],bins=bins)\n",
    "ax[0,1].set_title(\"g(C) distribution\")\n",
    "ax[1,0].hist(D_data,bins=bins)\n",
    "ax[1,0].set_title(\"discount D distribution\")\n",
    "ax[1,1].hist(y_data[:, 0]/y_data[:, 1],bins=bins)\n",
    "ax[1,1].set_title(\"f(C)/g(C) distribution\")\n",
    "ax[1,2].hist(p_data, bins=bins)\n",
    "ax[1,2].set_title(\"probability p distribution\")\n",
    "ax[0, 2].hist(deal_data, bins=bins)\n",
    "deal_ratio = np.round(frac[1]/(frac[0] + frac[1]),5)\n",
    "ax[0, 2].set_title(\"deal ratio \" + str(deal_ratio))\n",
    "plt.show()\n",
    "# plt.savefig('distributions_cpq_data')\n",
    "plt.close()\n",
    "\n",
    "#\n",
    "p_stat = frac[1]/(frac[0] + frac[1])\n"
   ]
  },
  {
   "cell_type": "markdown",
   "metadata": {},
   "source": [
    "If we want to modify the probability function for a specific set of C, e.g. C_1 = [2,1,0,3,6,3] we start to transform C_1 with one hot."
   ]
  },
  {
   "cell_type": "code",
   "execution_count": 6,
   "metadata": {},
   "outputs": [
    {
     "name": "stdout",
     "output_type": "stream",
     "text": [
      "[0. 0. 1. 0. 0. 1. 0. 0. 1. 0. 0. 0. 0. 1. 0. 0. 0. 0. 0. 0. 1. 0. 0. 0.\n",
      " 0. 0. 0. 0. 0. 1.]\n",
      "C_data shape:  (50000, 30)\n"
     ]
    }
   ],
   "source": [
    "C_1 = [2,1,0,3,6,3]\n",
    "C_1_oh = one_hot(C_1)\n",
    "print(C_1_oh)\n",
    "print(\"C_data shape: \", C_data.shape)"
   ]
  },
  {
   "cell_type": "markdown",
   "metadata": {},
   "source": [
    "If we want the probability function for C_1 to have a specific shape p(C_1,D)=sigmoid(k_desired*D-m_desired), we can just rebuild the M and/or the b of G.P to fit the desired form. \n",
    "To call M and b we simple write G.P.M, G.P.b:\n"
   ]
  },
  {
   "cell_type": "code",
   "execution_count": 7,
   "metadata": {},
   "outputs": [
    {
     "name": "stdout",
     "output_type": "stream",
     "text": [
      "M:  [[ 0.11449743 -0.33862756]\n",
      " [ 0.2888469  -0.20642899]\n",
      " [ 0.16551206 -0.18208798]\n",
      " [ 0.12651091 -0.31332274]\n",
      " [ 0.22292068 -0.10259795]\n",
      " [ 0.19815035 -0.27557049]\n",
      " [ 0.07140517 -0.02301803]\n",
      " [ 0.08281593 -0.20917461]\n",
      " [ 0.05900696 -0.18764464]\n",
      " [ 0.02203689 -0.0641748 ]\n",
      " [ 0.21320047 -0.03591021]\n",
      " [ 0.16174237 -0.18615763]\n",
      " [ 0.08871017 -0.11112347]\n",
      " [ 0.28715587 -0.27608053]\n",
      " [ 0.27962309 -0.24786756]\n",
      " [ 0.25929344 -0.15996989]\n",
      " [ 0.2974513  -0.1087841 ]\n",
      " [ 0.33267723 -0.16160623]\n",
      " [ 0.19251752 -0.12593025]\n",
      " [ 0.338009   -0.28462257]\n",
      " [ 0.03402309 -0.03928276]\n",
      " [ 0.03930098 -0.13759537]\n",
      " [ 0.00751424 -0.08178516]\n",
      " [ 0.00303121 -0.10888168]\n",
      " [ 0.14199978 -0.00710354]\n",
      " [ 0.24103947 -0.23423675]\n",
      " [ 0.09594579 -0.30954997]\n",
      " [ 0.30365691 -0.32573785]\n",
      " [ 0.23936638 -0.32085719]\n",
      " [ 0.05119102 -0.01702094]]\n",
      "b:  [0.30269522 2.70700118]\n"
     ]
    }
   ],
   "source": [
    "print(\"M: \", G.P.M)\n",
    "print(\"b: \", G.P.b)"
   ]
  },
  {
   "cell_type": "markdown",
   "metadata": {},
   "source": [
    "We can check k and m for C_1 by simply do a matrix multiplication C_1*M + b:"
   ]
  },
  {
   "cell_type": "code",
   "execution_count": 8,
   "metadata": {},
   "outputs": [
    {
     "name": "stdout",
     "output_type": "stream",
     "text": [
      "k(C_1):  1.0977345576198898\n",
      "m(C_1):  1.729313828414914\n"
     ]
    }
   ],
   "source": [
    "k_1,m_1 =np.matmul(C_1_oh,G.P.M)+G.P.b\n",
    "print(\"k(C_1): \", k_1)\n",
    "print(\"m(C_1): \", m_1)"
   ]
  },
  {
   "cell_type": "markdown",
   "metadata": {},
   "source": [
    "We can also plot p(C_1,D) for D in range 0:0.4"
   ]
  },
  {
   "cell_type": "code",
   "execution_count": 9,
   "metadata": {},
   "outputs": [
    {
     "data": {
      "image/png": "[encoded data removed]",
      "text/plain": [
       "<Figure size 432x288 with 1 Axes>"
      ]
     },
     "metadata": {},
     "output_type": "display_data"
    },
    {
     "data": {
      "text/plain": [
       "<function matplotlib.pyplot.close(*args)>"
      ]
     },
     "execution_count": 9,
     "metadata": {},
     "output_type": "execute_result"
    }
   ],
   "source": [
    "d_ = np.linspace(0,0.4,101)\n",
    "y_1, p_1 , deals_1 = G.P_gen(np.array([list(C_1_oh)]*101),d_)\n",
    "plt.plot(d_,p_1,label='p(C_1,D)')\n",
    "plt.xlabel(\"D discount %\")\n",
    "plt.ylabel(\"probability p\")\n",
    "plt.legend()\n",
    "plt.show()\n",
    "plt.close"
   ]
  },
  {
   "cell_type": "markdown",
   "metadata": {},
   "source": [
    "k(C_1), m(C_1) is the matrix-multiplication of C_1_oh*G.P.M+G.P.b, therefore we can modify G.P.M and/or G.P.b so k(C_1), m(C_1) have the desired values. Simplest way is to just modify an element in G.P.M where C_1_oh is not 0 e.g. index 2 (G.P.M[2,0], G.P.M[2,1])."
   ]
  },
  {
   "cell_type": "code",
   "execution_count": 10,
   "metadata": {},
   "outputs": [
    {
     "name": "stdout",
     "output_type": "stream",
     "text": [
      "new k(C_1):  10.0\n",
      "new m(C_1):  2.5\n"
     ]
    }
   ],
   "source": [
    "k_desired = 10\n",
    "m_desired = 2.5\n",
    "\n",
    "k_1,m_1 =np.matmul(C_1_oh,G.P.M)+G.P.b\n",
    "\n",
    "k_diff = k_desired - k_1\n",
    "m_diff = m_desired - m_1\n",
    "G.P.M[2,0] = k_diff + G.P.M[2,0]\n",
    "G.P.M[2,1] = m_diff + G.P.M[2,1]\n",
    "\n",
    "k_1u,m_1u =np.matmul(C_1_oh,G.P.M)+G.P.b\n",
    "print(\"new k(C_1): \", k_1u)\n",
    "print(\"new m(C_1): \", m_1u)"
   ]
  },
  {
   "cell_type": "code",
   "execution_count": 11,
   "metadata": {},
   "outputs": [
    {
     "data": {
      "image/png": "[encoded data removed]",
      "text/plain": [
       "<Figure size 432x288 with 1 Axes>"
      ]
     },
     "metadata": {},
     "output_type": "display_data"
    },
    {
     "data": {
      "text/plain": [
       "<function matplotlib.pyplot.close(*args)>"
      ]
     },
     "execution_count": 11,
     "metadata": {},
     "output_type": "execute_result"
    }
   ],
   "source": [
    "d_ = np.linspace(0,0.4,101)\n",
    "y_1, p_1u , deals_1 = G.P_gen(np.array([list(C_1_oh)]*101),d_)\n",
    "plt.plot(d_,p_1,label='old p(C_1,D)')\n",
    "plt.plot(d_,p_1u,label='new p(C_1,D)')\n",
    "\n",
    "plt.xlabel(\"D discount %\")\n",
    "plt.ylabel(\"probability p\")\n",
    "plt.legend()\n",
    "plt.show()\n",
    "plt.close"
   ]
  },
  {
   "cell_type": "markdown",
   "metadata": {},
   "source": [
    "We can control the number of outcomes for a specific combination of C.  Combination of interest is C_1 = [2,1,0,3,6,3] and say we want m=20 copies of it and 5 copys of the rest. We call the C_gen again, but set complete_set=True, this means that it generates \"copys\" # of every C combination. "
   ]
  },
  {
   "cell_type": "code",
   "execution_count": 12,
   "metadata": {},
   "outputs": [
    {
     "name": "stdout",
     "output_type": "stream",
     "text": [
      "len:  30720\n"
     ]
    }
   ],
   "source": [
    "C_data = G.C_gen(nr=50000, complete_set=True, copys=5)\n",
    "\n",
    "nr = len(C_data)\n",
    "print(\"len: \", nr)"
   ]
  },
  {
   "cell_type": "markdown",
   "metadata": {},
   "source": [
    "Next we remove every element where C is C_1."
   ]
  },
  {
   "cell_type": "code",
   "execution_count": 13,
   "metadata": {},
   "outputs": [
    {
     "name": "stdout",
     "output_type": "stream",
     "text": [
      "len:  30720\n",
      "len:  30715\n",
      "np.array(C_1_oh*m) shape:  (20, 30)\n",
      "len:  30735\n"
     ]
    }
   ],
   "source": [
    "ind1 = np.where(np.array([list(C_) == list(C_1_oh) for C_ in C_data]))\n",
    "C_data = np.delete(C_data,ind1[0],0)\n"
   ]
  },
  {
   "cell_type": "markdown",
   "metadata": {},
   "source": [
    "Now we just add m=20 elements C_1 to the end of C_data."
   ]
  },
  {
   "cell_type": "code",
   "execution_count": 14,
   "metadata": {},
   "outputs": [
    {
     "name": "stdout",
     "output_type": "stream",
     "text": [
      "np.array(C_1_oh*m) shape:  (20, 30)\n",
      "len:  30755\n"
     ]
    }
   ],
   "source": [
    "m=20\n",
    "C_data = np.concatenate((C_data,np.array([list(C_1_oh)]*m)),0)\n"
   ]
  },
  {
   "cell_type": "markdown",
   "metadata": {},
   "source": [
    "Remember that you need the same number of C_data and D_data. "
   ]
  },
  {
   "cell_type": "code",
   "execution_count": null,
   "metadata": {},
   "outputs": [],
   "source": [
    "nr = len(C_data)\n",
    "D_data = G.D_gen(nr=nr)\n",
    "y_data, p_data, deal_data =G.P_gen(C_data,D_data)"
   ]
  }
 ],
 "metadata": {
  "kernelspec": {
   "display_name": "Python 3",
   "language": "python",
   "name": "python3"
  },
  "language_info": {
   "codemirror_mode": {
    "name": "ipython",
    "version": 3
   },
   "file_extension": ".py",
   "mimetype": "text/x-python",
   "name": "python",
   "nbconvert_exporter": "python",
   "pygments_lexer": "ipython3",
   "version": "3.6.5"
  }
 },
 "nbformat": 4,
 "nbformat_minor": 2
}
