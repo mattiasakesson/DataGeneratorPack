{
 "cells": [
  {
   "cell_type": "markdown",
   "metadata": {},
   "source": [
    "This tutorial will show how to use and modify the data generator pack for Tacton.\n",
    "Data objects that are relevant for this project are:\n",
    "C_data - Combination data, \n",
    "D_data - Discount data, \n",
    "p_data - probability data, \n",
    "deal_data - Quote outcome. \n",
    "For more information regarding the algorithms behind the data generator: \n",
    "https://docs.google.com/document/d/10QUrTwTu61wxq57S-zQgsrRc2BtC6QuKa8mXj4Q4f84/edit"
   ]
  },
  {
   "cell_type": "code",
   "execution_count": 9,
   "metadata": {},
   "outputs": [],
   "source": [
    "import numpy as np\n",
    "from matplotlib import pylab as plt\n",
    "from generate_cpq_data_class import *\n",
    "import psutil\n",
    "import os\n",
    "\n",
    "os.environ['KMP_DUPLICATE_LIB_OK']='True'"
   ]
  },
  {
   "cell_type": "code",
   "execution_count": 11,
   "metadata": {},
   "outputs": [
    {
     "name": "stdout",
     "output_type": "stream",
     "text": [
      "virtual memory used:  56.6 %\n"
     ]
    }
   ],
   "source": [
    "print(\"virtual memory used: \", psutil.virtual_memory()[2], \"%\")\n"
   ]
  },
  {
   "cell_type": "code",
   "execution_count": null,
   "metadata": {},
   "outputs": [],
   "source": []
  },
  {
   "cell_type": "markdown",
   "metadata": {},
   "source": [
    "The Generator_pack creates a C-gen (Combinations/dimensions-generator), D_gen (Discount-generator), a P (Probability function) and a corresponding P_gen (Probability-generator).\n",
    "\n",
    "We start this tutortial by initiate a Generator_pack G. discount_max, discount_min, discount_mean, discount_std are parameters for the distribution of the discount data (truncated normal distribution). mean_p and max_p are parameters for the probability distribution. "
   ]
  },
  {
   "cell_type": "code",
   "execution_count": 12,
   "metadata": {},
   "outputs": [],
   "source": [
    "G=Generator_pack(discount_max = 0.4, discount_min=0, discount_mean = 0.15, discount_std = 0.2, mean_p = 0.2,\n",
    "                  max_p = 0.4)\n",
    "\n",
    "#C_3 = [3,2,0,2,2,2]\n",
    "#G.set_C(C_3, p=lambda d:np.sin(d*2*np.pi/0.4), n= lambda: 1000, d_dist= lambda nr: 0.4*np.random.rand(nr))"
   ]
  },
  {
   "cell_type": "code",
   "execution_count": null,
   "metadata": {},
   "outputs": [],
   "source": [
    "import pickle\n",
    "\n",
    "training_data = pickle.load( open( \"training_data.p\", \"rb\" ) )\n",
    "C_train = training_data['C_train']\n",
    "D_train = training_data['D_train']\n",
    "p_train = training_data['p_train']\n",
    "deal_train = training_data['deal_train']\n",
    "\n",
    "test_data = pickle.load( open( \"test_data.p\", \"rb\" ) )\n",
    "C_test = test_data['C_test']\n",
    "D_test = test_data['D_test']\n",
    "p_test = test_data['p_test']\n",
    "deal_test = test_data['deal_test']"
   ]
  },
  {
   "cell_type": "markdown",
   "metadata": {},
   "source": [
    "### Generate training and test data from G."
   ]
  },
  {
   "cell_type": "code",
   "execution_count": 13,
   "metadata": {},
   "outputs": [
    {
     "name": "stdout",
     "output_type": "stream",
     "text": [
      "Generated data:  611312 / 611312\n"
     ]
    }
   ],
   "source": [
    "#import pickle\n",
    "#import os\n",
    "\n",
    "C_train, D_train, p_train, deal_train = G.generate_data(copyfunction=lambda: int(np.maximum(0,np.random.normal(100,0.2))))\n",
    "#training_data = {'C_train': C_train, \"D_train\": D_train, \"p_train\": p_train, \"deal_train\": deal_train}\n",
    "#pickle.dump( training_data, open( \"training_data.p\", \"wb\" ) )"
   ]
  },
  {
   "cell_type": "code",
   "execution_count": 14,
   "metadata": {},
   "outputs": [
    {
     "name": "stdout",
     "output_type": "stream",
     "text": [
      "Generated data:  611360 / 611360\n"
     ]
    }
   ],
   "source": [
    "C_test, D_test, p_test, deal_test = G.generate_data(copyfunction=lambda: int(np.maximum(0,np.random.normal(100,0.2))))\n",
    "#test_data = {'C_test': C_test, \"D_test\": D_test, \"p_test\": p_test, \"deal_test\": deal_test}\n",
    "#pickle.dump( test_data, open( \"test_data.p\", \"wb\" ) )"
   ]
  },
  {
   "cell_type": "markdown",
   "metadata": {},
   "source": [
    "Define the model shell"
   ]
  },
  {
   "cell_type": "code",
   "execution_count": 48,
   "metadata": {},
   "outputs": [],
   "source": [
    "def custom_loss_function(y, p_y):\n",
    "    #logloss\n",
    "    return -p_y.log_prob(y)\n",
    "\n",
    "eps = 0.000001\n",
    "input_shape = (30,)\n",
    "\n",
    "def create_model2(input_shape=(30,)):\n",
    "    C = tf.keras.layers.Input(shape=input_shape, name='C_data')\n",
    "    dis = tf.keras.layers.Input(shape=(1,), name='D_data')\n",
    "\n",
    "    k_ = tf.keras.layers.Dense(20, name='k_layer')(C)\n",
    "    m_ = tf.keras.layers.Dense(20, name='m_layer')(C)\n",
    "\n",
    "    #k_ = tf.keras.layers.Dense(10, activation='relu', name='k_layer')(C)\n",
    "    #k_ = tf.keras.layers.Dense(10, name='k_layer2')(k_)\n",
    "\n",
    "    #m_ = tf.keras.layers.Dense(100, activation='relu', name='m_layer')(C)\n",
    "    #m_ = tf.keras.layers.Dense(1000, name='m_layer2')(m_)\n",
    "\n",
    "    z = tf.math.multiply(k_,dis, name='multiply_k')\n",
    "\n",
    "    z = tf.math.add(z,m_,name='add_m')\n",
    "    z = tf.keras.layers.Activation('sigmoid',name='h')(z)\n",
    "    #z = tf.keras.layers.Dense(100,activation='sigmoid')(z)\n",
    "\n",
    "    z = tf.keras.layers.Dense(1)(z)\n",
    "\n",
    "    p = tf.keras.layers.Lambda(lambda t: tf.sigmoid(t) * (1.0 - eps) + eps / 2)(z)\n",
    "    Out = tfp.layers.DistributionLambda(lambda t: tfd.Bernoulli(probs=t))(p)\n",
    "\n",
    "    model = tf.keras.models.Model(inputs=[dis,C], outputs=Out)\n",
    "    model.compile(optimizer=tf.optimizers.Adam(learning_rate=0.001, decay=0), loss=custom_loss_function, metrics=['mae'])\n",
    "    return model"
   ]
  },
  {
   "cell_type": "code",
   "execution_count": 16,
   "metadata": {},
   "outputs": [],
   "source": [
    "def logloss(true_label, predicted, eps=1e-15):\n",
    "    p = np.clip(predicted, eps, 1 - eps)\n",
    "    return -np.log(p*true_label + (1-p)*(1- true_label))"
   ]
  },
  {
   "cell_type": "markdown",
   "metadata": {},
   "source": [
    "### Define the model M"
   ]
  },
  {
   "cell_type": "code",
   "execution_count": 49,
   "metadata": {},
   "outputs": [
    {
     "name": "stdout",
     "output_type": "stream",
     "text": [
      "Model: \"model_15\"\n",
      "__________________________________________________________________________________________________\n",
      "Layer (type)                    Output Shape         Param #     Connected to                     \n",
      "==================================================================================================\n",
      "C_data (InputLayer)             [(None, 30)]         0                                            \n",
      "__________________________________________________________________________________________________\n",
      "k_layer (Dense)                 (None, 20)           620         C_data[0][0]                     \n",
      "__________________________________________________________________________________________________\n",
      "D_data (InputLayer)             [(None, 1)]          0                                            \n",
      "__________________________________________________________________________________________________\n",
      "tf_op_layer_multiply_k_15 (Tens [(None, 20)]         0           k_layer[0][0]                    \n",
      "                                                                 D_data[0][0]                     \n",
      "__________________________________________________________________________________________________\n",
      "m_layer (Dense)                 (None, 20)           620         C_data[0][0]                     \n",
      "__________________________________________________________________________________________________\n",
      "tf_op_layer_add_m_15 (TensorFlo [(None, 20)]         0           tf_op_layer_multiply_k_15[0][0]  \n",
      "                                                                 m_layer[0][0]                    \n",
      "__________________________________________________________________________________________________\n",
      "h (Activation)                  (None, 20)           0           tf_op_layer_add_m_15[0][0]       \n",
      "__________________________________________________________________________________________________\n",
      "dense_15 (Dense)                (None, 1)            21          h[0][0]                          \n",
      "__________________________________________________________________________________________________\n",
      "lambda_15 (Lambda)              (None, 1)            0           dense_15[0][0]                   \n",
      "__________________________________________________________________________________________________\n",
      "distribution_lambda_15 (Distrib ((None, 1), (None, 1 0           lambda_15[0][0]                  \n",
      "==================================================================================================\n",
      "Total params: 1,261\n",
      "Trainable params: 1,261\n",
      "Non-trainable params: 0\n",
      "__________________________________________________________________________________________________\n"
     ]
    }
   ],
   "source": [
    "from MLmodel import*\n",
    "M = MLmodel(model_shell=create_model2())\n",
    "M.model.summary()"
   ]
  },
  {
   "cell_type": "markdown",
   "metadata": {},
   "source": [
    "### Train the model."
   ]
  },
  {
   "cell_type": "code",
   "execution_count": 50,
   "metadata": {},
   "outputs": [
    {
     "name": "stdout",
     "output_type": "stream",
     "text": [
      "true logloss train set:  0.36471088169276145\n",
      "true logloss test set:  0.36694466644848245\n",
      "training starts\n",
      "Train on 611312 samples, validate on 50000 samples\n",
      "Epoch 1/500\n",
      "611312/611312 [==============================] - 17s 28us/sample - loss: 0.3877 - mae: 0.2421 - val_loss: 0.3808 - val_mae: 0.2365\n",
      "Epoch 2/500\n",
      "611312/611312 [==============================] - 16s 25us/sample - loss: 0.3783 - mae: 0.2359 - val_loss: 0.3790 - val_mae: 0.2418\n",
      "Epoch 3/500\n",
      "611312/611312 [==============================] - 15s 25us/sample - loss: 0.3769 - mae: 0.2350 - val_loss: 0.3778 - val_mae: 0.2391\n",
      "Epoch 4/500\n",
      "611312/611312 [==============================] - 15s 25us/sample - loss: 0.3760 - mae: 0.2347 - val_loss: 0.3771 - val_mae: 0.2360\n",
      "Epoch 5/500\n",
      "611312/611312 [==============================] - 15s 25us/sample - loss: 0.3753 - mae: 0.2347 - val_loss: 0.3766 - val_mae: 0.2367\n",
      "Epoch 6/500\n",
      "611312/611312 [==============================] - 15s 24us/sample - loss: 0.3747 - mae: 0.2347 - val_loss: 0.3761 - val_mae: 0.2398\n",
      "Epoch 7/500\n",
      "611312/611312 [==============================] - 15s 25us/sample - loss: 0.3741 - mae: 0.2346 - val_loss: 0.3757 - val_mae: 0.2341\n",
      "Epoch 8/500\n",
      "611312/611312 [==============================] - 15s 24us/sample - loss: 0.3737 - mae: 0.2343 - val_loss: 0.3752 - val_mae: 0.2373\n",
      "Epoch 9/500\n",
      "611312/611312 [==============================] - 15s 25us/sample - loss: 0.3731 - mae: 0.2348 - val_loss: 0.3750 - val_mae: 0.2296\n",
      "Epoch 10/500\n",
      "611312/611312 [==============================] - 15s 25us/sample - loss: 0.3726 - mae: 0.2346 - val_loss: 0.3748 - val_mae: 0.2297\n",
      "Epoch 11/500\n",
      "611312/611312 [==============================] - 15s 25us/sample - loss: 0.3721 - mae: 0.2338 - val_loss: 0.3744 - val_mae: 0.2341\n",
      "Epoch 12/500\n",
      "611312/611312 [==============================] - 15s 25us/sample - loss: 0.3718 - mae: 0.2337 - val_loss: 0.3740 - val_mae: 0.2345\n",
      "Epoch 13/500\n",
      "611312/611312 [==============================] - 15s 25us/sample - loss: 0.3714 - mae: 0.2341 - val_loss: 0.3737 - val_mae: 0.2379\n",
      "Epoch 14/500\n",
      "611312/611312 [==============================] - 15s 25us/sample - loss: 0.3712 - mae: 0.2340 - val_loss: 0.3736 - val_mae: 0.2342\n",
      "Epoch 15/500\n",
      "611312/611312 [==============================] - 15s 25us/sample - loss: 0.3710 - mae: 0.2327 - val_loss: 0.3734 - val_mae: 0.2315\n",
      "Epoch 16/500\n",
      "611312/611312 [==============================] - 15s 25us/sample - loss: 0.3708 - mae: 0.2335 - val_loss: 0.3731 - val_mae: 0.2320\n",
      "Epoch 17/500\n",
      "611312/611312 [==============================] - 15s 25us/sample - loss: 0.3706 - mae: 0.2337 - val_loss: 0.3731 - val_mae: 0.2300\n",
      "Epoch 18/500\n",
      "611312/611312 [==============================] - 15s 25us/sample - loss: 0.3704 - mae: 0.2326 - val_loss: 0.3731 - val_mae: 0.2309\n",
      "Epoch 19/500\n",
      "611312/611312 [==============================] - 15s 25us/sample - loss: 0.3703 - mae: 0.2331 - val_loss: 0.3728 - val_mae: 0.2334\n",
      "Epoch 20/500\n",
      "611312/611312 [==============================] - 15s 25us/sample - loss: 0.3701 - mae: 0.2337 - val_loss: 0.3728 - val_mae: 0.2315\n",
      "Epoch 21/500\n",
      "611312/611312 [==============================] - 15s 25us/sample - loss: 0.3700 - mae: 0.2331 - val_loss: 0.3726 - val_mae: 0.2372\n",
      "Epoch 22/500\n",
      "611312/611312 [==============================] - 15s 25us/sample - loss: 0.3698 - mae: 0.2326 - val_loss: 0.3728 - val_mae: 0.2293\n",
      "Epoch 23/500\n",
      "611312/611312 [==============================] - 18s 29us/sample - loss: 0.3697 - mae: 0.2329 - val_loss: 0.3723 - val_mae: 0.2369\n",
      "Epoch 24/500\n",
      "611312/611312 [==============================] - 16s 25us/sample - loss: 0.3696 - mae: 0.2334 - val_loss: 0.3725 - val_mae: 0.2327\n",
      "Epoch 25/500\n",
      "611312/611312 [==============================] - 15s 24us/sample - loss: 0.3695 - mae: 0.2321 - val_loss: 0.3722 - val_mae: 0.2338\n",
      "Epoch 26/500\n",
      "611312/611312 [==============================] - 15s 25us/sample - loss: 0.3695 - mae: 0.2330 - val_loss: 0.3724 - val_mae: 0.2315\n",
      "Epoch 27/500\n",
      "611312/611312 [==============================] - 15s 25us/sample - loss: 0.3694 - mae: 0.2331 - val_loss: 0.3719 - val_mae: 0.2330\n",
      "Epoch 28/500\n",
      "611312/611312 [==============================] - 15s 24us/sample - loss: 0.3693 - mae: 0.2328 - val_loss: 0.3726 - val_mae: 0.2327\n",
      "Epoch 29/500\n",
      "611312/611312 [==============================] - 15s 25us/sample - loss: 0.3692 - mae: 0.2332 - val_loss: 0.3719 - val_mae: 0.2368\n",
      "Epoch 30/500\n",
      "611312/611312 [==============================] - 15s 24us/sample - loss: 0.3692 - mae: 0.2332 - val_loss: 0.3721 - val_mae: 0.2306\n",
      "Epoch 31/500\n",
      "611312/611312 [==============================] - 15s 24us/sample - loss: 0.3691 - mae: 0.2329 - val_loss: 0.3718 - val_mae: 0.2368\n",
      "Epoch 32/500\n",
      "611312/611312 [==============================] - 15s 25us/sample - loss: 0.3690 - mae: 0.2329 - val_loss: 0.3720 - val_mae: 0.2326\n",
      "Epoch 33/500\n",
      "611312/611312 [==============================] - 15s 25us/sample - loss: 0.3690 - mae: 0.2327 - val_loss: 0.3718 - val_mae: 0.2359\n",
      "Epoch 34/500\n",
      "611312/611312 [==============================] - 15s 25us/sample - loss: 0.3689 - mae: 0.2327 - val_loss: 0.3717 - val_mae: 0.2370\n",
      "Epoch 35/500\n",
      "611312/611312 [==============================] - 15s 25us/sample - loss: 0.3688 - mae: 0.2325 - val_loss: 0.3716 - val_mae: 0.2341\n",
      "Epoch 36/500\n",
      "611312/611312 [==============================] - 15s 24us/sample - loss: 0.3688 - mae: 0.2322 - val_loss: 0.3718 - val_mae: 0.2301\n",
      "Epoch 37/500\n",
      "611312/611312 [==============================] - 15s 24us/sample - loss: 0.3687 - mae: 0.2332 - val_loss: 0.3715 - val_mae: 0.2336\n",
      "Epoch 38/500\n",
      "611312/611312 [==============================] - 15s 25us/sample - loss: 0.3687 - mae: 0.2325 - val_loss: 0.3715 - val_mae: 0.2353\n",
      "Epoch 39/500\n",
      "611312/611312 [==============================] - 17s 28us/sample - loss: 0.3686 - mae: 0.2327 - val_loss: 0.3716 - val_mae: 0.2304\n",
      "Epoch 40/500\n",
      "611312/611312 [==============================] - 16s 26us/sample - loss: 0.3685 - mae: 0.2327 - val_loss: 0.3713 - val_mae: 0.2343\n",
      "Epoch 41/500\n",
      "611312/611312 [==============================] - 16s 26us/sample - loss: 0.3686 - mae: 0.2326 - val_loss: 0.3715 - val_mae: 0.2358\n",
      "Epoch 42/500\n",
      "611312/611312 [==============================] - 17s 28us/sample - loss: 0.3685 - mae: 0.2333 - val_loss: 0.3713 - val_mae: 0.2330\n",
      "Epoch 43/500\n",
      "611312/611312 [==============================] - 16s 27us/sample - loss: 0.3684 - mae: 0.2321 - val_loss: 0.3713 - val_mae: 0.2339\n",
      "Epoch 44/500\n",
      "611312/611312 [==============================] - 15s 25us/sample - loss: 0.3684 - mae: 0.2327 - val_loss: 0.3714 - val_mae: 0.2345\n",
      "Epoch 45/500\n",
      "611312/611312 [==============================] - 15s 25us/sample - loss: 0.3684 - mae: 0.2332 - val_loss: 0.3712 - val_mae: 0.2324\n",
      "Epoch 46/500\n",
      "611312/611312 [==============================] - 15s 25us/sample - loss: 0.3683 - mae: 0.2322 - val_loss: 0.3713 - val_mae: 0.2315\n",
      "Epoch 47/500\n",
      "611312/611312 [==============================] - 15s 25us/sample - loss: 0.3683 - mae: 0.2319 - val_loss: 0.3712 - val_mae: 0.2321\n",
      "Epoch 48/500\n",
      "611312/611312 [==============================] - 15s 25us/sample - loss: 0.3682 - mae: 0.2330 - val_loss: 0.3711 - val_mae: 0.2364\n",
      "Epoch 49/500\n",
      "611312/611312 [==============================] - 15s 25us/sample - loss: 0.3682 - mae: 0.2325 - val_loss: 0.3711 - val_mae: 0.2318\n",
      "Epoch 50/500\n",
      "611312/611312 [==============================] - 15s 25us/sample - loss: 0.3681 - mae: 0.2332 - val_loss: 0.3711 - val_mae: 0.2326\n",
      "Epoch 51/500\n",
      "611312/611312 [==============================] - 15s 25us/sample - loss: 0.3681 - mae: 0.2318 - val_loss: 0.3712 - val_mae: 0.2317\n",
      "Epoch 52/500\n",
      "611312/611312 [==============================] - 15s 25us/sample - loss: 0.3680 - mae: 0.2323 - val_loss: 0.3712 - val_mae: 0.2322\n",
      "Epoch 53/500\n",
      "611312/611312 [==============================] - 15s 25us/sample - loss: 0.3680 - mae: 0.2315 - val_loss: 0.3708 - val_mae: 0.2337\n",
      "Epoch 54/500\n",
      "611312/611312 [==============================] - 15s 25us/sample - loss: 0.3680 - mae: 0.2325 - val_loss: 0.3709 - val_mae: 0.2334\n",
      "Epoch 55/500\n",
      "611312/611312 [==============================] - 15s 25us/sample - loss: 0.3679 - mae: 0.2321 - val_loss: 0.3707 - val_mae: 0.2374\n",
      "Epoch 56/500\n"
     ]
    },
    {
     "name": "stdout",
     "output_type": "stream",
     "text": [
      "611312/611312 [==============================] - 15s 25us/sample - loss: 0.3679 - mae: 0.2328 - val_loss: 0.3708 - val_mae: 0.2340\n",
      "Epoch 57/500\n",
      "611312/611312 [==============================] - 15s 25us/sample - loss: 0.3679 - mae: 0.2323 - val_loss: 0.3708 - val_mae: 0.2349\n",
      "Epoch 58/500\n",
      "611312/611312 [==============================] - 15s 25us/sample - loss: 0.3678 - mae: 0.2322 - val_loss: 0.3708 - val_mae: 0.2328\n",
      "Epoch 59/500\n",
      "611312/611312 [==============================] - 15s 25us/sample - loss: 0.3678 - mae: 0.2321 - val_loss: 0.3711 - val_mae: 0.2292\n",
      "Epoch 60/500\n",
      "611312/611312 [==============================] - 15s 25us/sample - loss: 0.3678 - mae: 0.2321 - val_loss: 0.3708 - val_mae: 0.2341\n",
      "Epoch 61/500\n",
      "611312/611312 [==============================] - 15s 25us/sample - loss: 0.3678 - mae: 0.2322 - val_loss: 0.3707 - val_mae: 0.2386\n",
      "Epoch 62/500\n",
      "611312/611312 [==============================] - 15s 25us/sample - loss: 0.3677 - mae: 0.2327 - val_loss: 0.3707 - val_mae: 0.2349\n",
      "Epoch 63/500\n",
      "611312/611312 [==============================] - 15s 25us/sample - loss: 0.3677 - mae: 0.2322 - val_loss: 0.3707 - val_mae: 0.2342\n",
      "Epoch 64/500\n",
      "611312/611312 [==============================] - 15s 25us/sample - loss: 0.3677 - mae: 0.2320 - val_loss: 0.3710 - val_mae: 0.2311\n",
      "Epoch 65/500\n",
      "611312/611312 [==============================] - 15s 25us/sample - loss: 0.3676 - mae: 0.2319 - val_loss: 0.3709 - val_mae: 0.2370\n",
      "Epoch 66/500\n",
      "611312/611312 [==============================] - 15s 25us/sample - loss: 0.3676 - mae: 0.2325 - val_loss: 0.3708 - val_mae: 0.2319\n",
      "Epoch 67/500\n",
      "611312/611312 [==============================] - 15s 25us/sample - loss: 0.3676 - mae: 0.2317 - val_loss: 0.3707 - val_mae: 0.2322\n",
      "Epoch 68/500\n",
      "611312/611312 [==============================] - 15s 25us/sample - loss: 0.3676 - mae: 0.2322 - val_loss: 0.3705 - val_mae: 0.2362\n",
      "Epoch 69/500\n",
      "611312/611312 [==============================] - 15s 25us/sample - loss: 0.3675 - mae: 0.2312 - val_loss: 0.3707 - val_mae: 0.2311\n",
      "Epoch 70/500\n",
      "611312/611312 [==============================] - 15s 25us/sample - loss: 0.3675 - mae: 0.2324 - val_loss: 0.3705 - val_mae: 0.2343\n",
      "Epoch 71/500\n",
      "611312/611312 [==============================] - 15s 25us/sample - loss: 0.3675 - mae: 0.2328 - val_loss: 0.3706 - val_mae: 0.2348\n",
      "Epoch 72/500\n",
      "611312/611312 [==============================] - 15s 25us/sample - loss: 0.3675 - mae: 0.2333 - val_loss: 0.3706 - val_mae: 0.2347\n",
      "Epoch 73/500\n",
      "611312/611312 [==============================] - 15s 25us/sample - loss: 0.3674 - mae: 0.2327 - val_loss: 0.3711 - val_mae: 0.2257\n",
      "Epoch 74/500\n",
      "611312/611312 [==============================] - 15s 25us/sample - loss: 0.3674 - mae: 0.2322 - val_loss: 0.3705 - val_mae: 0.2315\n",
      "Epoch 75/500\n",
      "611312/611312 [==============================] - 15s 25us/sample - loss: 0.3674 - mae: 0.2320 - val_loss: 0.3713 - val_mae: 0.2283\n",
      "Epoch 76/500\n",
      "611312/611312 [==============================] - 16s 25us/sample - loss: 0.3674 - mae: 0.2326 - val_loss: 0.3707 - val_mae: 0.2322\n",
      "Epoch 77/500\n",
      "611312/611312 [==============================] - 15s 25us/sample - loss: 0.3673 - mae: 0.2324 - val_loss: 0.3709 - val_mae: 0.2380\n",
      "Epoch 78/500\n",
      "611312/611312 [==============================] - 15s 25us/sample - loss: 0.3673 - mae: 0.2318 - val_loss: 0.3705 - val_mae: 0.2349\n",
      "Epoch 79/500\n",
      "611312/611312 [==============================] - 15s 25us/sample - loss: 0.3673 - mae: 0.2324 - val_loss: 0.3705 - val_mae: 0.2320\n",
      "Epoch 80/500\n",
      "611312/611312 [==============================] - 15s 25us/sample - loss: 0.3673 - mae: 0.2324 - val_loss: 0.3707 - val_mae: 0.2313\n",
      "Epoch 81/500\n",
      "611312/611312 [==============================] - 15s 25us/sample - loss: 0.3673 - mae: 0.2323 - val_loss: 0.3704 - val_mae: 0.2335\n",
      "Epoch 82/500\n",
      "611312/611312 [==============================] - 15s 25us/sample - loss: 0.3672 - mae: 0.2335 - val_loss: 0.3705 - val_mae: 0.2300\n",
      "Epoch 83/500\n",
      "611312/611312 [==============================] - 15s 25us/sample - loss: 0.3672 - mae: 0.2314 - val_loss: 0.3703 - val_mae: 0.2316\n",
      "Epoch 84/500\n",
      "611312/611312 [==============================] - 15s 25us/sample - loss: 0.3672 - mae: 0.2322 - val_loss: 0.3705 - val_mae: 0.2316\n",
      "Epoch 85/500\n",
      "611312/611312 [==============================] - 15s 25us/sample - loss: 0.3672 - mae: 0.2323 - val_loss: 0.3705 - val_mae: 0.2328\n",
      "Epoch 86/500\n",
      "611312/611312 [==============================] - 15s 25us/sample - loss: 0.3672 - mae: 0.2319 - val_loss: 0.3707 - val_mae: 0.2359\n",
      "Epoch 87/500\n",
      "611312/611312 [==============================] - 15s 25us/sample - loss: 0.3672 - mae: 0.2326 - val_loss: 0.3704 - val_mae: 0.2343\n",
      "Epoch 88/500\n",
      "611312/611312 [==============================] - 15s 25us/sample - loss: 0.3671 - mae: 0.2326 - val_loss: 0.3706 - val_mae: 0.2326\n",
      "Epoch 89/500\n",
      "611312/611312 [==============================] - 15s 25us/sample - loss: 0.3671 - mae: 0.2315 - val_loss: 0.3704 - val_mae: 0.2291\n",
      "Epoch 90/500\n",
      "611312/611312 [==============================] - 15s 25us/sample - loss: 0.3671 - mae: 0.2318 - val_loss: 0.3704 - val_mae: 0.2319\n",
      "Epoch 91/500\n",
      "611312/611312 [==============================] - 15s 25us/sample - loss: 0.3671 - mae: 0.2316 - val_loss: 0.3704 - val_mae: 0.2357\n",
      "Epoch 92/500\n",
      "611312/611312 [==============================] - 15s 25us/sample - loss: 0.3670 - mae: 0.2325 - val_loss: 0.3706 - val_mae: 0.2300\n",
      "Epoch 93/500\n",
      "611312/611312 [==============================] - 15s 25us/sample - loss: 0.3670 - mae: 0.2318 - val_loss: 0.3703 - val_mae: 0.2325\n",
      "Epoch 94/500\n",
      "611312/611312 [==============================] - 15s 25us/sample - loss: 0.3670 - mae: 0.2320 - val_loss: 0.3704 - val_mae: 0.2341\n",
      "Epoch 95/500\n",
      "611312/611312 [==============================] - 16s 25us/sample - loss: 0.3670 - mae: 0.2318 - val_loss: 0.3704 - val_mae: 0.2330\n",
      "Epoch 96/500\n",
      "611312/611312 [==============================] - 15s 25us/sample - loss: 0.3670 - mae: 0.2315 - val_loss: 0.3708 - val_mae: 0.2270\n",
      "Epoch 97/500\n",
      "611312/611312 [==============================] - 15s 25us/sample - loss: 0.3670 - mae: 0.2319 - val_loss: 0.3703 - val_mae: 0.2314\n",
      "Epoch 98/500\n",
      "611312/611312 [==============================] - 15s 25us/sample - loss: 0.3670 - mae: 0.2320 - val_loss: 0.3704 - val_mae: 0.2356\n",
      "Epoch 99/500\n",
      "611312/611312 [==============================] - 15s 25us/sample - loss: 0.3669 - mae: 0.2323 - val_loss: 0.3704 - val_mae: 0.2324\n",
      "Epoch 100/500\n",
      "611312/611312 [==============================] - 15s 25us/sample - loss: 0.3669 - mae: 0.2320 - val_loss: 0.3701 - val_mae: 0.2339\n",
      "Epoch 101/500\n",
      "611312/611312 [==============================] - 15s 25us/sample - loss: 0.3669 - mae: 0.2318 - val_loss: 0.3702 - val_mae: 0.2337\n",
      "Epoch 102/500\n",
      "611312/611312 [==============================] - 15s 25us/sample - loss: 0.3669 - mae: 0.2315 - val_loss: 0.3705 - val_mae: 0.2366\n",
      "Epoch 103/500\n",
      "611312/611312 [==============================] - 15s 25us/sample - loss: 0.3669 - mae: 0.2319 - val_loss: 0.3704 - val_mae: 0.2312\n",
      "Epoch 104/500\n",
      "611312/611312 [==============================] - 15s 25us/sample - loss: 0.3669 - mae: 0.2317 - val_loss: 0.3702 - val_mae: 0.2365\n",
      "Epoch 105/500\n",
      "611312/611312 [==============================] - 15s 25us/sample - loss: 0.3669 - mae: 0.2321 - val_loss: 0.3701 - val_mae: 0.2338\n",
      "Epoch 106/500\n",
      "611312/611312 [==============================] - 15s 25us/sample - loss: 0.3668 - mae: 0.2318 - val_loss: 0.3703 - val_mae: 0.2318\n",
      "Epoch 107/500\n",
      "611312/611312 [==============================] - 15s 25us/sample - loss: 0.3668 - mae: 0.2315 - val_loss: 0.3702 - val_mae: 0.2324\n",
      "Epoch 108/500\n",
      "611312/611312 [==============================] - 15s 25us/sample - loss: 0.3668 - mae: 0.2317 - val_loss: 0.3701 - val_mae: 0.2359\n",
      "Epoch 109/500\n",
      "611312/611312 [==============================] - 15s 25us/sample - loss: 0.3668 - mae: 0.2318 - val_loss: 0.3702 - val_mae: 0.2347\n",
      "Epoch 110/500\n",
      "611312/611312 [==============================] - 15s 25us/sample - loss: 0.3668 - mae: 0.2312 - val_loss: 0.3702 - val_mae: 0.2337\n",
      "Epoch 111/500\n",
      "611312/611312 [==============================] - 15s 25us/sample - loss: 0.3668 - mae: 0.2317 - val_loss: 0.3702 - val_mae: 0.2362\n",
      "Epoch 112/500\n",
      "611312/611312 [==============================] - 15s 25us/sample - loss: 0.3668 - mae: 0.2323 - val_loss: 0.3702 - val_mae: 0.2371\n"
     ]
    },
    {
     "name": "stdout",
     "output_type": "stream",
     "text": [
      "Epoch 113/500\n",
      "611312/611312 [==============================] - 15s 25us/sample - loss: 0.3667 - mae: 0.2324 - val_loss: 0.3702 - val_mae: 0.2319\n",
      "Epoch 114/500\n",
      "611312/611312 [==============================] - 15s 25us/sample - loss: 0.3668 - mae: 0.2322 - val_loss: 0.3707 - val_mae: 0.2296\n",
      "Epoch 115/500\n",
      "611312/611312 [==============================] - 15s 25us/sample - loss: 0.3667 - mae: 0.2316 - val_loss: 0.3702 - val_mae: 0.2304\n",
      "Epoch 116/500\n",
      "611312/611312 [==============================] - 15s 25us/sample - loss: 0.3667 - mae: 0.2316 - val_loss: 0.3705 - val_mae: 0.2263\n",
      "Epoch 117/500\n",
      "611312/611312 [==============================] - 15s 25us/sample - loss: 0.3667 - mae: 0.2318 - val_loss: 0.3700 - val_mae: 0.2331\n",
      "Epoch 118/500\n",
      "611312/611312 [==============================] - 15s 25us/sample - loss: 0.3667 - mae: 0.2318 - val_loss: 0.3701 - val_mae: 0.2327\n",
      "Epoch 119/500\n",
      "611312/611312 [==============================] - 15s 25us/sample - loss: 0.3667 - mae: 0.2319 - val_loss: 0.3701 - val_mae: 0.2366\n",
      "Epoch 120/500\n",
      "611312/611312 [==============================] - 15s 25us/sample - loss: 0.3667 - mae: 0.2317 - val_loss: 0.3702 - val_mae: 0.2328\n",
      "Epoch 121/500\n",
      "611312/611312 [==============================] - 15s 25us/sample - loss: 0.3667 - mae: 0.2316 - val_loss: 0.3701 - val_mae: 0.2323\n",
      "Epoch 122/500\n",
      "611312/611312 [==============================] - 15s 25us/sample - loss: 0.3667 - mae: 0.2311 - val_loss: 0.3702 - val_mae: 0.2370\n",
      "Epoch 123/500\n",
      "611312/611312 [==============================] - 15s 25us/sample - loss: 0.3667 - mae: 0.2314 - val_loss: 0.3701 - val_mae: 0.2314\n",
      "Epoch 124/500\n",
      "611312/611312 [==============================] - 15s 25us/sample - loss: 0.3666 - mae: 0.2318 - val_loss: 0.3704 - val_mae: 0.2289\n",
      "Epoch 125/500\n",
      "611312/611312 [==============================] - 15s 25us/sample - loss: 0.3666 - mae: 0.2327 - val_loss: 0.3703 - val_mae: 0.2357\n",
      "Epoch 126/500\n",
      "611312/611312 [==============================] - 15s 25us/sample - loss: 0.3666 - mae: 0.2325 - val_loss: 0.3702 - val_mae: 0.2354\n",
      "Epoch 127/500\n",
      "611312/611312 [==============================] - 15s 25us/sample - loss: 0.3666 - mae: 0.2325 - val_loss: 0.3702 - val_mae: 0.2293\n",
      "Epoch 128/500\n",
      "611312/611312 [==============================] - 15s 25us/sample - loss: 0.3666 - mae: 0.2317 - val_loss: 0.3701 - val_mae: 0.2372\n",
      "Epoch 129/500\n",
      "611312/611312 [==============================] - 15s 25us/sample - loss: 0.3666 - mae: 0.2320 - val_loss: 0.3700 - val_mae: 0.2332\n",
      "Epoch 130/500\n",
      "611312/611312 [==============================] - 15s 25us/sample - loss: 0.3666 - mae: 0.2317 - val_loss: 0.3701 - val_mae: 0.2310\n",
      "Epoch 131/500\n",
      "611312/611312 [==============================] - 15s 25us/sample - loss: 0.3666 - mae: 0.2325 - val_loss: 0.3701 - val_mae: 0.2334\n",
      "Epoch 132/500\n",
      "611312/611312 [==============================] - 15s 25us/sample - loss: 0.3666 - mae: 0.2318 - val_loss: 0.3705 - val_mae: 0.2276\n",
      "Epoch 133/500\n",
      "611312/611312 [==============================] - 15s 25us/sample - loss: 0.3666 - mae: 0.2326 - val_loss: 0.3701 - val_mae: 0.2336\n",
      "Epoch 134/500\n",
      "611312/611312 [==============================] - 15s 25us/sample - loss: 0.3666 - mae: 0.2326 - val_loss: 0.3700 - val_mae: 0.2328\n",
      "Epoch 135/500\n",
      "611312/611312 [==============================] - 16s 26us/sample - loss: 0.3666 - mae: 0.2316 - val_loss: 0.3700 - val_mae: 0.2396\n",
      "Epoch 136/500\n",
      "611312/611312 [==============================] - 16s 25us/sample - loss: 0.3666 - mae: 0.2325 - val_loss: 0.3701 - val_mae: 0.2399loss: 0.3665 - mae: 0.2\n",
      "Epoch 137/500\n",
      "611312/611312 [==============================] - 1818s 3ms/sample - loss: 0.3666 - mae: 0.2310 - val_loss: 0.3704 - val_mae: 0.2389\n",
      "Epoch 138/500\n",
      "611312/611312 [==============================] - 2905s 5ms/sample - loss: 0.3665 - mae: 0.2316 - val_loss: 0.3703 - val_mae: 0.2299\n",
      "Epoch 139/500\n",
      "611312/611312 [==============================] - 1852s 3ms/sample - loss: 0.3665 - mae: 0.2317 - val_loss: 0.3699 - val_mae: 0.2329\n",
      "Epoch 140/500\n",
      "611312/611312 [==============================] - 3748s 6ms/sample - loss: 0.3665 - mae: 0.2317 - val_loss: 0.3703 - val_mae: 0.2361\n",
      "Epoch 141/500\n",
      "611312/611312 [==============================] - 7251s 12ms/sample - loss: 0.3665 - mae: 0.2323 - val_loss: 0.3701 - val_mae: 0.2324\n",
      "Epoch 142/500\n",
      "611312/611312 [==============================] - 2242s 4ms/sample - loss: 0.3665 - mae: 0.2321 - val_loss: 0.3700 - val_mae: 0.2353\n",
      "Epoch 143/500\n",
      "611312/611312 [==============================] - 7251s 12ms/sample - loss: 0.3665 - mae: 0.2313 - val_loss: 0.3699 - val_mae: 0.2378\n",
      "Epoch 144/500\n",
      "611312/611312 [==============================] - 7251s 12ms/sample - loss: 0.3665 - mae: 0.2320 - val_loss: 0.3700 - val_mae: 0.2328\n",
      "Epoch 145/500\n",
      "611312/611312 [==============================] - 134s 220us/sample - loss: 0.3665 - mae: 0.2323 - val_loss: 0.3699 - val_mae: 0.2344\n",
      "Epoch 146/500\n",
      "611312/611312 [==============================] - 63s 103us/sample - loss: 0.3665 - mae: 0.2318 - val_loss: 0.3699 - val_mae: 0.2362\n",
      "Epoch 147/500\n",
      "611312/611312 [==============================] - 18s 29us/sample - loss: 0.3665 - mae: 0.2317 - val_loss: 0.3699 - val_mae: 0.2341\n",
      "Epoch 148/500\n",
      "611312/611312 [==============================] - 18s 30us/sample - loss: 0.3665 - mae: 0.2320 - val_loss: 0.3699 - val_mae: 0.2337\n",
      "Epoch 149/500\n",
      "611312/611312 [==============================] - 19s 31us/sample - loss: 0.3665 - mae: 0.2323 - val_loss: 0.3701 - val_mae: 0.2316\n",
      "Epoch 150/500\n",
      "611312/611312 [==============================] - 21s 34us/sample - loss: 0.3664 - mae: 0.2322 - val_loss: 0.3699 - val_mae: 0.2355\n",
      "Epoch 151/500\n",
      "611312/611312 [==============================] - 20s 33us/sample - loss: 0.3665 - mae: 0.2327 - val_loss: 0.3700 - val_mae: 0.2348\n",
      "Epoch 152/500\n",
      "611312/611312 [==============================] - 19s 31us/sample - loss: 0.3664 - mae: 0.2313 - val_loss: 0.3700 - val_mae: 0.2314\n",
      "Epoch 153/500\n",
      "611312/611312 [==============================] - 15s 24us/sample - loss: 0.3664 - mae: 0.2316 - val_loss: 0.3700 - val_mae: 0.2332\n",
      "Epoch 154/500\n",
      "611312/611312 [==============================] - 15s 24us/sample - loss: 0.3665 - mae: 0.2317 - val_loss: 0.3702 - val_mae: 0.2358\n",
      "Epoch 155/500\n",
      "611312/611312 [==============================] - 15s 25us/sample - loss: 0.3664 - mae: 0.2322 - val_loss: 0.3701 - val_mae: 0.2347\n",
      "Epoch 156/500\n",
      "611312/611312 [==============================] - 16s 26us/sample - loss: 0.3664 - mae: 0.2315 - val_loss: 0.3707 - val_mae: 0.2262\n",
      "Epoch 157/500\n",
      "611312/611312 [==============================] - 15s 25us/sample - loss: 0.3664 - mae: 0.2325 - val_loss: 0.3699 - val_mae: 0.2352\n",
      "Epoch 158/500\n",
      "611312/611312 [==============================] - 15s 25us/sample - loss: 0.3664 - mae: 0.2319 - val_loss: 0.3699 - val_mae: 0.2342\n",
      "Epoch 159/500\n",
      "611312/611312 [==============================] - 15s 25us/sample - loss: 0.3664 - mae: 0.2315 - val_loss: 0.3701 - val_mae: 0.2313\n",
      "Epoch 160/500\n",
      "611312/611312 [==============================] - 15s 25us/sample - loss: 0.3664 - mae: 0.2320 - val_loss: 0.3703 - val_mae: 0.2303\n",
      "Epoch 161/500\n",
      "611312/611312 [==============================] - 15s 25us/sample - loss: 0.3664 - mae: 0.2319 - val_loss: 0.3702 - val_mae: 0.2353\n",
      "Epoch 162/500\n",
      "611312/611312 [==============================] - 15s 25us/sample - loss: 0.3664 - mae: 0.2320 - val_loss: 0.3701 - val_mae: 0.2358\n",
      "Epoch 00162: early stopping\n"
     ]
    }
   ],
   "source": [
    "\n",
    "test_size = 50000\n",
    "C_val = C_test[:test_size]\n",
    "D_val = D_test[:test_size]\n",
    "deal_val = deal_test[:test_size]\n",
    "p_val = p_test[:test_size]\n",
    "print(\"true logloss train set: \", np.mean(logloss(deal_train,p_train)))\n",
    "print(\"true logloss validation set: \", np.mean(logloss(deal_val,p_val)))\n",
    "M.train(C_train, D_train, deal_train, C_val, D_val, deal_val, batch_size=100, verbose=1, early_stopping_patience=15)"
   ]
  },
  {
   "cell_type": "markdown",
   "metadata": {},
   "source": [
    "### Validation score (logloss) ´"
   ]
  },
  {
   "cell_type": "code",
   "execution_count": 56,
   "metadata": {},
   "outputs": [
    {
     "name": "stdout",
     "output_type": "stream",
     "text": [
      "true logloss validation set:  0.3669\n",
      "ML model logloss validation set:  0.3699\n"
     ]
    }
   ],
   "source": [
    "pred_p_val = M.probability(C_val,D_val)\n",
    "print(\"true logloss validation set: \", np.round(np.mean(logloss(deal_val,p_val)),4))\n",
    "print(\"ML model logloss validation set: \", np.round(np.mean(logloss(deal_val,pred_p_val)),4))"
   ]
  },
  {
   "cell_type": "code",
   "execution_count": null,
   "metadata": {},
   "outputs": [],
   "source": []
  },
  {
   "cell_type": "code",
   "execution_count": 54,
   "metadata": {
    "scrolled": false
   },
   "outputs": [
    {
     "name": "stdout",
     "output_type": "stream",
     "text": [
      "Generated data:  101 / 101\n",
      "Generated data:  101 / 101\n",
      "Generated data:  101 / 101\n"
     ]
    },
    {
     "data": {
      "image/png": "[encoded data removed]",
      "text/plain": [
       "<Figure size 432x288 with 1 Axes>"
      ]
     },
     "metadata": {
      "needs_background": "light"
     },
     "output_type": "display_data"
    }
   ],
   "source": [
    "nr=101\n",
    "dl = np.linspace(0,0.4,nr)\n",
    "\n",
    "C_1 = one_hot([1,1,1,1,1,1])\n",
    "C_1_list = np.tile(np.expand_dims(np.array(C_1),0),(nr,1))\n",
    "pred_p1 = M.probability(C_1_list, dl)\n",
    "true_p1 = G.P.p(C_1_list,dl)\n",
    "\n",
    "plt.plot(dl,true_p1, c='b', label='true p(C_1,D)')\n",
    "plt.plot(dl,pred_p1, c='b', ls='--', label='pred p(C_1,D)')\n",
    "\n",
    "C_2 = [3,2,0,2,6,2]\n",
    "C_2oh = one_hot(C_2)\n",
    "C_2_list = np.tile(np.expand_dims(np.array(C_2oh),0),(nr,1))\n",
    "pred_p2 =  M.probability(C_2_list, dl)\n",
    "true_p2 = G.P.p(C_2_list,dl)\n",
    "\n",
    "plt.plot(dl,true_p2, c='r', label='true p(C_2,D)')\n",
    "plt.plot(dl,pred_p2, c='r', ls='-.', label='pred p(C_2,D)')\n",
    "\n",
    "\n",
    "C_3 = [0,2,0,1,2,2]\n",
    "C_3oh = one_hot(C_3)\n",
    "C_3_list = np.tile(np.expand_dims(np.array(C_3oh),0),(nr,1))\n",
    "pred_p3 =  M.probability(C_3_list, dl)\n",
    "true_p3 = G.P.p(C_3_list,dl)\n",
    "\n",
    "plt.plot(dl,true_p3, c='g', label='true p(C_3,D)')\n",
    "plt.plot(dl,pred_p3, c='g', ls='--', label='pred p(C_3,D)')\n",
    "\n",
    "plt.xlabel('Discount D')\n",
    "plt.ylabel('Probability')\n",
    "plt.legend()\n",
    "plt.savefig(\"plotswith\")\n",
    "plt.show()\n"
   ]
  },
  {
   "cell_type": "code",
   "execution_count": null,
   "metadata": {},
   "outputs": [],
   "source": [
    "\n",
    "print(\"np.expand_dims(D_train,1) shape: \", (np.expand_dims(D_train,1)).shape)\n",
    "print(\"C_train shape: \", C_train.shape)\n",
    "#p_pred_train = np.array([model([np.expand_dims(d,0), np.expand_dims(c,0)]).mean() for d,c in zip(np.expand_dims(D_train,1), C_train)])\n",
    "p_pred_train = np.squeeze(model([np.expand_dims(D_train,1), C_train]).mean())\n",
    "print(\"p_pred_train shape: \", p_pred_train.shape)\n",
    "pred_score = logloss(deal_train,p_pred_train)\n",
    "print(\"pred mean: \", np.mean(pred_score))\n"
   ]
  },
  {
   "cell_type": "code",
   "execution_count": null,
   "metadata": {},
   "outputs": [],
   "source": [
    "score = logloss(deal_train,p_train)\n",
    "print(\"true log loss: \", np.mean(score))"
   ]
  },
  {
   "cell_type": "code",
   "execution_count": null,
   "metadata": {},
   "outputs": [],
   "source": [
    "nr=101\n",
    "dl = np.linspace(0,0.4,nr)\n",
    "C_1 = one_hot([1,1,1,1,1,1])\n",
    "C_1_list = np.tile(np.expand_dims(np.array(C_1),0),(nr,1))\n",
    "p_pred = model([np.expand_dims(dl,1),C_1_list]).mean()\n",
    "p_pred = np.squeeze(p_pred)\n",
    "true_C_1_p = lambda d: np.float64(G.P.base_func(to_scalar([1,1,1,1,1,1]), d))\n",
    "true_p = true_C_1_p(dl)\n",
    "p1,deal1 = G.P.sample(C_1_list,dl)\n",
    "score = logloss(deal1,p1)\n",
    "print(\"true log loss: \", np.mean(score))\n",
    "score = logloss(deal1,p_pred)\n",
    "print(\"pred log loss: \", np.mean(score))\n"
   ]
  },
  {
   "cell_type": "code",
   "execution_count": null,
   "metadata": {},
   "outputs": [],
   "source": [
    "def logloss_test(C, G, model):\n",
    "    nr=101\n",
    "    dl = np.linspace(0,0.4,nr)\n",
    "    C_oh = one_hot(C)\n",
    "    C_oh_list = np.tile(np.expand_dims(np.array(C_oh),0),(nr,1))\n",
    "    p_pred = model([np.expand_dims(dl,1),C_oh_list]).mean()\n",
    "    p_pred = np.squeeze(p_pred)\n",
    "    true_C_oh_p = lambda d: np.float64(G.P.base_func(to_scalar(C), d))\n",
    "    true_p = true_C_oh_p(dl)\n",
    "    p1,deal1 = G.P.sample(C_oh_list,dl)\n",
    "    true_score = np.mean( logloss(deal1,p1))\n",
    "    print(\"true log loss: \", true_score)\n",
    "    pred_score = np.mean(logloss(deal1,p_pred))\n",
    "    print(\"pred log loss: \", pred_score)\n",
    "    print(\"fraction (pred_logloss/true_logloss): \", pred_score/true_score)\n",
    "    return true_score, pred_score\n",
    "    "
   ]
  },
  {
   "cell_type": "code",
   "execution_count": null,
   "metadata": {},
   "outputs": [],
   "source": [
    "logloss_test([0,0,0,0,0,0], G, model)"
   ]
  },
  {
   "cell_type": "code",
   "execution_count": null,
   "metadata": {},
   "outputs": [],
   "source": []
  }
 ],
 "metadata": {
  "kernelspec": {
   "display_name": "Python 3",
   "language": "python",
   "name": "python3"
  },
  "language_info": {
   "codemirror_mode": {
    "name": "ipython",
    "version": 3
   },
   "file_extension": ".py",
   "mimetype": "text/x-python",
   "name": "python",
   "nbconvert_exporter": "python",
   "pygments_lexer": "ipython3",
   "version": "3.7.4"
  }
 },
 "nbformat": 4,
 "nbformat_minor": 2
}
