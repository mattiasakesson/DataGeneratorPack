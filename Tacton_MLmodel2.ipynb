{
 "cells": [
  {
   "cell_type": "markdown",
   "metadata": {},
   "source": [
    "This tutorial will show how to use and modify the data generator pack for Tacton.\n",
    "Data objects that are relevant for this project are:\n",
    "C_data - Combination data, \n",
    "D_data - Discount data, \n",
    "p_data - probability data, \n",
    "deal_data - Quote outcome. \n",
    "For more information regarding the algorithms behind the data generator: \n",
    "https://docs.google.com/document/d/10QUrTwTu61wxq57S-zQgsrRc2BtC6QuKa8mXj4Q4f84/edit"
   ]
  },
  {
   "cell_type": "code",
   "execution_count": 1,
   "metadata": {},
   "outputs": [],
   "source": [
    "import numpy as np\n",
    "from matplotlib import pylab as plt\n",
    "from generate_cpq_data_class import *\n",
    "import psutil\n"
   ]
  },
  {
   "cell_type": "code",
   "execution_count": null,
   "metadata": {},
   "outputs": [],
   "source": [
    "plt.plot(np.random.rand(101),np.random.rand(101))\n"
   ]
  },
  {
   "cell_type": "code",
   "execution_count": null,
   "metadata": {},
   "outputs": [],
   "source": [
    "print(\"virtual memory used: \", psutil.virtual_memory()[2], \"%\")\n"
   ]
  },
  {
   "cell_type": "code",
   "execution_count": null,
   "metadata": {},
   "outputs": [],
   "source": []
  },
  {
   "cell_type": "markdown",
   "metadata": {},
   "source": [
    "The Generator_pack creates a C-gen (Combinations/dimensions-generator), D_gen (Discount-generator), a P (Probability function) and a corresponding P_gen (Probability-generator).\n",
    "\n",
    "We start this tutortial by initiate a Generator_pack G. discount_max, discount_min, discount_mean, discount_std are parameters for the distribution of the discount data (truncated normal distribution). mean_p and max_p are parameters for the probability distribution. "
   ]
  },
  {
   "cell_type": "code",
   "execution_count": 2,
   "metadata": {},
   "outputs": [],
   "source": [
    "G=Generator_pack(discount_max = 0.4, discount_min=0, discount_mean = 0.15, discount_std = 0.2, mean_p = 0.2,\n",
    "                  max_p = 0.4)\n",
    "\n",
    "#C_3 = [3,2,0,2,2,2]\n",
    "#G.set_C(C_3, p=lambda d:np.sin(d*2*np.pi/0.4), n= lambda: 1000, d_dist= lambda nr: 0.4*np.random.rand(nr))"
   ]
  },
  {
   "cell_type": "markdown",
   "metadata": {},
   "source": [
    "To generate C-data, D-data, p_data and deal_data from the Generator_pack G we just call G.generate_data()"
   ]
  },
  {
   "cell_type": "code",
   "execution_count": null,
   "metadata": {},
   "outputs": [],
   "source": [
    "import pickle\n",
    "\n",
    "training_data = pickle.load( open( \"training_data.p\", \"rb\" ) )\n",
    "C_train = training_data['C_train']\n",
    "D_train = training_data['D_train']\n",
    "p_train = training_data['p_train']\n",
    "deal_train = training_data['deal_train']\n",
    "\n",
    "test_data = pickle.load( open( \"test_data.p\", \"rb\" ) )\n",
    "C_test = test_data['C_test']\n",
    "D_test = test_data['D_test']\n",
    "p_test = test_data['p_test']\n",
    "deal_test = test_data['deal_test']"
   ]
  },
  {
   "cell_type": "code",
   "execution_count": 3,
   "metadata": {},
   "outputs": [
    {
     "name": "stdout",
     "output_type": "stream",
     "text": [
      "Generated data:  2454559 / 245455900 / 2454559 2454559 98000 / 2454559 122000 / 2454559 2454559/ 2454559 2454559 418000 / 2454559 462000 / 2454559 525000 / 2454559 639000 / 2454559 663000 / 2454559 747000 / 2454559 796000 / 2454559 817000 / 2454559 826000 / 2454559 839000 / 2454559853000 / 2454559 992000 / 2454559 993000 / 2454559 1015000 / 24545591148000 / 2454559 1170000 / 2454559 1171000 / 2454559/ 2454559/ 2454559 1309000 / 2454559 1313000 / 2454559 1315000 / 24545591348000 / 24545591365000 / 2454559 1509000 / 2454559 1538000 / 2454559 2454559 1674000 / 2454559 1728000 / 2454559 1792000 / 2454559 1798000 / 2454559 1882000 / 24545592454559 2002000 / 2454559 2033000 / 2454559 2078000 / 24545592089000 / 2454559 2134000 / 24545592454559 2236000 / 2454559 2238000 / 245455924545592454559 2383000 / 2454559 2414000 / 2454559\n"
     ]
    }
   ],
   "source": [
    "#import pickle\n",
    "#import os\n",
    "\n",
    "C_train, D_train, p_train, deal_train = G.generate_data(copyfunction=lambda: int(np.maximum(0,np.random.normal(400,0.2))))\n",
    "#training_data = {'C_train': C_train, \"D_train\": D_train, \"p_train\": p_train, \"deal_train\": deal_train}\n",
    "#pickle.dump( training_data, open( \"training_data.p\", \"wb\" ) )"
   ]
  },
  {
   "cell_type": "code",
   "execution_count": 4,
   "metadata": {},
   "outputs": [
    {
     "name": "stdout",
     "output_type": "stream",
     "text": [
      "Generated data:  611323 / 61132386000 / 611323 264000 / 611323 417000 / 611323 423000 / 611323 436000 / 611323\n"
     ]
    }
   ],
   "source": [
    "C_test, D_test, p_test, deal_test = G.generate_data(copyfunction=lambda: int(np.maximum(0,np.random.normal(100,0.2))))\n",
    "#test_data = {'C_test': C_test, \"D_test\": D_test, \"p_test\": p_test, \"deal_test\": deal_test}\n",
    "#pickle.dump( test_data, open( \"test_data.p\", \"wb\" ) )"
   ]
  },
  {
   "cell_type": "code",
   "execution_count": 5,
   "metadata": {},
   "outputs": [
    {
     "name": "stdout",
     "output_type": "stream",
     "text": [
      "updates?\n"
     ]
    }
   ],
   "source": [
    "def custom_loss_function(y, p_y):\n",
    "    #logloss\n",
    "    return -p_y.log_prob(y)\n",
    "\n",
    "eps = 0.000001\n",
    "input_shape = (30,)\n",
    "print(\"updates?\")\n",
    "\n",
    "def create_model(input_shape=(30,)):\n",
    "    C = tf.keras.layers.Input(shape=input_shape, name='C_data')\n",
    "    dis = tf.keras.layers.Input(shape=(1,), name='D_data')\n",
    "\n",
    "    k_ = tf.keras.layers.Dense(20, name='k_layer')(C)\n",
    "    m_ = tf.keras.layers.Dense(20, name='m_layer')(C)\n",
    "\n",
    "    #k_ = tf.keras.layers.Dense(100, activation='relu', name='k_layer')(C)\n",
    "    #k_ = tf.keras.layers.Dense(100, name='k_layer2')(k_)\n",
    "\n",
    "    #m_ = tf.keras.layers.Dense(100, activation='relu', name='m_layer')(C)\n",
    "    #m_ = tf.keras.layers.Dense(100, name='m_layer2')(m_)\n",
    "\n",
    "    z = tf.math.multiply(k_,dis, name='multiply_k')\n",
    "\n",
    "    z = tf.math.add(z,m_,name='add_m')\n",
    "    z = tf.keras.layers.Activation('sigmoid',name='h')(z)\n",
    "    #z = tf.keras.layers.Dense(100,activation='sigmoid')(z)\n",
    "\n",
    "    z = tf.keras.layers.Dense(1)(z)\n",
    "\n",
    "    p = tf.keras.layers.Lambda(lambda t: tf.sigmoid(t) * (1.0 - eps) + eps / 2)(z)\n",
    "    Out = tfp.layers.DistributionLambda(lambda t: tfd.Bernoulli(probs=t))(p)\n",
    "\n",
    "    model = tf.keras.models.Model(inputs=[dis,C], outputs=Out)\n",
    "    model.compile(optimizer=tf.optimizers.Adam(learning_rate=0.001, decay=0), loss=custom_loss_function, metrics=['mae'])\n",
    "    model.summary()\n",
    "    return model"
   ]
  },
  {
   "cell_type": "code",
   "execution_count": 6,
   "metadata": {},
   "outputs": [],
   "source": [
    "def logloss(true_label, predicted, eps=1e-15):\n",
    "    p = np.clip(predicted, eps, 1 - eps)\n",
    "    return -np.log(p*true_label + (1-p)*(1- true_label))"
   ]
  },
  {
   "cell_type": "code",
   "execution_count": null,
   "metadata": {},
   "outputs": [],
   "source": [
    "M.model.summary()"
   ]
  },
  {
   "cell_type": "code",
   "execution_count": 8,
   "metadata": {},
   "outputs": [
    {
     "name": "stdout",
     "output_type": "stream",
     "text": [
      "true logloss train set:  0.4427175758783579\n",
      "true logloss test set:  0.4441467045504705\n",
      "training starts\n",
      "Train on 2454559 samples, validate on 50000 samples\n",
      "Epoch 1/500\n",
      "2454559/2454559 [==============================] - 49s 20us/sample - loss: 0.4494 - mae: 0.2919 - val_loss: 0.4492 - val_mae: 0.2925\n",
      "Epoch 2/500\n",
      "2454559/2454559 [==============================] - 47s 19us/sample - loss: 0.4460 - mae: 0.2905 - val_loss: 0.4475 - val_mae: 0.2896\n",
      "Epoch 3/500\n",
      "2454559/2454559 [==============================] - 48s 20us/sample - loss: 0.4451 - mae: 0.2905 - val_loss: 0.4469 - val_mae: 0.2914\n",
      "Epoch 4/500\n",
      "2454559/2454559 [==============================] - 48s 20us/sample - loss: 0.4447 - mae: 0.2900 - val_loss: 0.4463 - val_mae: 0.2930\n",
      "Epoch 5/500\n",
      "2454559/2454559 [==============================] - 48s 19us/sample - loss: 0.4444 - mae: 0.2898 - val_loss: 0.4464 - val_mae: 0.2951\n",
      "Epoch 6/500\n",
      "2454559/2454559 [==============================] - 47s 19us/sample - loss: 0.4441 - mae: 0.2894 - val_loss: 0.4463 - val_mae: 0.2925\n",
      "Epoch 7/500\n",
      "2454559/2454559 [==============================] - 47s 19us/sample - loss: 0.4440 - mae: 0.2895 - val_loss: 0.4464 - val_mae: 0.2866\n",
      "Epoch 8/500\n",
      "2454559/2454559 [==============================] - 47s 19us/sample - loss: 0.4439 - mae: 0.2893 - val_loss: 0.4458 - val_mae: 0.2897\n",
      "Epoch 9/500\n",
      "2454559/2454559 [==============================] - 47s 19us/sample - loss: 0.4438 - mae: 0.2893 - val_loss: 0.4461 - val_mae: 0.2910\n",
      "Epoch 10/500\n",
      "2454559/2454559 [==============================] - 48s 19us/sample - loss: 0.4437 - mae: 0.2891 - val_loss: 0.4459 - val_mae: 0.2950\n",
      "Epoch 11/500\n",
      "2454559/2454559 [==============================] - 47s 19us/sample - loss: 0.4437 - mae: 0.2888 - val_loss: 0.4461 - val_mae: 0.2886\n",
      "Epoch 12/500\n",
      "2454559/2454559 [==============================] - 48s 19us/sample - loss: 0.4436 - mae: 0.2888 - val_loss: 0.4459 - val_mae: 0.2900\n",
      "Epoch 13/500\n",
      "2454559/2454559 [==============================] - 47s 19us/sample - loss: 0.4435 - mae: 0.2892 - val_loss: 0.4462 - val_mae: 0.2913\n",
      "Epoch 14/500\n",
      "2454559/2454559 [==============================] - 51s 21us/sample - loss: 0.4435 - mae: 0.2890 - val_loss: 0.4464 - val_mae: 0.2919\n",
      "Epoch 15/500\n",
      "2454559/2454559 [==============================] - 48s 20us/sample - loss: 0.4434 - mae: 0.2893 - val_loss: 0.4460 - val_mae: 0.2899\n",
      "Epoch 16/500\n",
      "2454559/2454559 [==============================] - 48s 20us/sample - loss: 0.4434 - mae: 0.2886 - val_loss: 0.4459 - val_mae: 0.2919\n",
      "Epoch 17/500\n",
      "2454559/2454559 [==============================] - 47s 19us/sample - loss: 0.4434 - mae: 0.2887 - val_loss: 0.4461 - val_mae: 0.2872\n",
      "Epoch 18/500\n",
      "2454559/2454559 [==============================] - 48s 20us/sample - loss: 0.4433 - mae: 0.2886 - val_loss: 0.4463 - val_mae: 0.2939\n",
      "Epoch 19/500\n",
      "2454559/2454559 [==============================] - 47s 19us/sample - loss: 0.4434 - mae: 0.2891 - val_loss: 0.4463 - val_mae: 0.2877\n",
      "Epoch 20/500\n",
      "2454559/2454559 [==============================] - 47s 19us/sample - loss: 0.4433 - mae: 0.2890 - val_loss: 0.4461 - val_mae: 0.2889\n",
      "Epoch 21/500\n",
      "2454559/2454559 [==============================] - 47s 19us/sample - loss: 0.4433 - mae: 0.2885 - val_loss: 0.4464 - val_mae: 0.2844\n",
      "Epoch 22/500\n",
      "2454559/2454559 [==============================] - 47s 19us/sample - loss: 0.4433 - mae: 0.2889 - val_loss: 0.4463 - val_mae: 0.2959\n",
      "Epoch 23/500\n",
      "2454559/2454559 [==============================] - 48s 20us/sample - loss: 0.4432 - mae: 0.2887 - val_loss: 0.4465 - val_mae: 0.2866\n",
      "Epoch 00023: early stopping\n"
     ]
    }
   ],
   "source": [
    "from MLmodel import*\n",
    "test_size = 50000\n",
    "C_val = C_test[:test_size]\n",
    "D_val = D_test[:test_size]\n",
    "deal_val = deal_test[:test_size]\n",
    "p_val = p_test[:test_size]\n",
    "print(\"true logloss train set: \", np.mean(logloss(deal_train,p_train)))\n",
    "print(\"true logloss test set: \", np.mean(logloss(deal_val,p_val)))\n",
    "M = MLmodel(create_model())\n",
    "M.train(C_train, D_train, deal_train, C_val, D_val, deal_val, batch_size=10, verbose=1, early_stopping_patience=15)"
   ]
  },
  {
   "cell_type": "code",
   "execution_count": 9,
   "metadata": {},
   "outputs": [
    {
     "name": "stdout",
     "output_type": "stream",
     "text": [
      "pred mean:  0.445798424807884\n"
     ]
    }
   ],
   "source": [
    "p_pred_val = M.probability(C_val,D_val)\n",
    "#p_pred_val = np.squeeze(M.model([np.expand_dims(D_val,1), C_val]).mean())\n",
    "pred_score = logloss(deal_val,p_pred_val)\n",
    "print(\"pred mean: \", np.mean(pred_score))"
   ]
  },
  {
   "cell_type": "code",
   "execution_count": 19,
   "metadata": {
    "scrolled": false
   },
   "outputs": [
    {
     "name": "stdout",
     "output_type": "stream",
     "text": [
      "C_1_list shape:  (101, 30)\n",
      "C_3_list shape:  (101, 30)\n",
      "Generated data:  101 / 101\n"
     ]
    },
    {
     "data": {
      "image/png": "[encoded data removed]",
      "text/plain": [
       "<Figure size 432x288 with 1 Axes>"
      ]
     },
     "metadata": {},
     "output_type": "display_data"
    }
   ],
   "source": [
    "\n",
    "nr=101\n",
    "dl = np.linspace(0,0.4,nr)\n",
    "C_1 = one_hot([1,1,1,1,1,1])\n",
    "C_1_list = np.tile(np.expand_dims(np.array(C_1),0),(nr,1))\n",
    "#p_pred = model([np.expand_dims(dl,1),C_1_list]).mean()\n",
    "#p_pred = np.squeeze(p_pred)\n",
    "\n",
    "\n",
    "true_C_1_p = lambda d: np.float64(G.P.base_func(to_scalar([1,1,1,1,1,1]), d))\n",
    "true_p = true_C_1_p(dl)\n",
    "plt.plot(dl,true_p, c='b', label='true p(C_1,D)')\n",
    "\n",
    "print(\"C_1_list shape: \", C_1_list.shape)\n",
    "p_pred = M.probability(C_1_list, dl)\n",
    "plt.plot(dl,p_pred, c='b', ls='--', label='pred p(C_1,D)')\n",
    "#ind1 = np.where(np.array([list(C_) == list(C_1) for C_ in C_train]))\n",
    "#plt.scatter(D_train[ind1], p_train[ind1], c ='b',marker='x')\n",
    "\n",
    "C_2 = [3,2,0,2,6,2]\n",
    "C_2oh = one_hot(C_2)\n",
    "C_2_list = np.tile(np.expand_dims(np.array(C_2oh),0),(nr,1))\n",
    "#p_pred2 = model([np.expand_dims(dl,1),C_2_list]).mean()\n",
    "#p_pred2 = np.squeeze(p_pred2)\n",
    "true_C_2_p = lambda d: np.float64(G.P.base_func(to_scalar(C_2), d))\n",
    "true_p2 = true_C_2_p(dl)\n",
    "plt.plot(dl,true_p2, c='r', label='true p(C_2,D)')\n",
    "\n",
    "p_pred2 =  M.probability(C_2_list, dl)\n",
    "plt.plot(dl,p_pred2, c='r', ls='-.', label='pred p(C_2,D)')\n",
    "\n",
    "\n",
    "\n",
    "\n",
    "\n",
    "\n",
    "\n",
    "C_3 = [0,2,0,1,2,2]\n",
    "C_3oh = one_hot(C_3)\n",
    "C_3_list = np.tile(np.expand_dims(np.array(C_3oh),0),(nr,1))\n",
    "\n",
    "print(\"C_3_list shape: \", C_3_list.shape)\n",
    "\n",
    "#p_pred3 = model([np.expand_dims(dl,1),C_3_list]).mean()\n",
    "#p_pred3 = np.squeeze(p_pred3)\n",
    "p_pred3 =  M.probability(C_3_list, dl)\n",
    "true_C_3 = G.P.p(C_3_list,dl)\n",
    "\n",
    "plt.plot(dl,true_C_3, c='g', label='true p(C_3,D)')\n",
    "plt.plot(dl,p_pred3, c='g', ls='--', label='pred p(C_3,D)')\n",
    "\n",
    "plt.xlabel('Discount D')\n",
    "plt.ylabel('Probability')\n",
    "plt.legend()\n",
    "plt.savefig(\"plotswith\")\n",
    "plt.show()\n"
   ]
  },
  {
   "cell_type": "code",
   "execution_count": null,
   "metadata": {},
   "outputs": [],
   "source": [
    "\n",
    "print(\"np.expand_dims(D_train,1) shape: \", (np.expand_dims(D_train,1)).shape)\n",
    "print(\"C_train shape: \", C_train.shape)\n",
    "#p_pred_train = np.array([model([np.expand_dims(d,0), np.expand_dims(c,0)]).mean() for d,c in zip(np.expand_dims(D_train,1), C_train)])\n",
    "p_pred_train = np.squeeze(model([np.expand_dims(D_train,1), C_train]).mean())\n",
    "print(\"p_pred_train shape: \", p_pred_train.shape)\n",
    "pred_score = logloss(deal_train,p_pred_train)\n",
    "print(\"pred mean: \", np.mean(pred_score))\n"
   ]
  },
  {
   "cell_type": "code",
   "execution_count": null,
   "metadata": {},
   "outputs": [],
   "source": [
    "score = logloss(deal_train,p_train)\n",
    "print(\"true log loss: \", np.mean(score))"
   ]
  },
  {
   "cell_type": "code",
   "execution_count": null,
   "metadata": {},
   "outputs": [],
   "source": [
    "nr=101\n",
    "dl = np.linspace(0,0.4,nr)\n",
    "C_1 = one_hot([1,1,1,1,1,1])\n",
    "C_1_list = np.tile(np.expand_dims(np.array(C_1),0),(nr,1))\n",
    "p_pred = model([np.expand_dims(dl,1),C_1_list]).mean()\n",
    "p_pred = np.squeeze(p_pred)\n",
    "true_C_1_p = lambda d: np.float64(G.P.base_func(to_scalar([1,1,1,1,1,1]), d))\n",
    "true_p = true_C_1_p(dl)\n",
    "p1,deal1 = G.P.sample(C_1_list,dl)\n",
    "score = logloss(deal1,p1)\n",
    "print(\"true log loss: \", np.mean(score))\n",
    "score = logloss(deal1,p_pred)\n",
    "print(\"pred log loss: \", np.mean(score))\n"
   ]
  },
  {
   "cell_type": "code",
   "execution_count": null,
   "metadata": {},
   "outputs": [],
   "source": [
    "def "
   ]
  },
  {
   "cell_type": "code",
   "execution_count": null,
   "metadata": {},
   "outputs": [],
   "source": [
    "def logloss_test(C, G, model):\n",
    "    nr=101\n",
    "    dl = np.linspace(0,0.4,nr)\n",
    "    C_oh = one_hot(C)\n",
    "    C_oh_list = np.tile(np.expand_dims(np.array(C_oh),0),(nr,1))\n",
    "    p_pred = model([np.expand_dims(dl,1),C_oh_list]).mean()\n",
    "    p_pred = np.squeeze(p_pred)\n",
    "    true_C_oh_p = lambda d: np.float64(G.P.base_func(to_scalar(C), d))\n",
    "    true_p = true_C_oh_p(dl)\n",
    "    p1,deal1 = G.P.sample(C_oh_list,dl)\n",
    "    true_score = np.mean( logloss(deal1,p1))\n",
    "    print(\"true log loss: \", true_score)\n",
    "    pred_score = np.mean(logloss(deal1,p_pred))\n",
    "    print(\"pred log loss: \", pred_score)\n",
    "    print(\"fraction (pred_logloss/true_logloss): \", pred_score/true_score)\n",
    "    return true_score, pred_score\n",
    "    "
   ]
  },
  {
   "cell_type": "code",
   "execution_count": null,
   "metadata": {},
   "outputs": [],
   "source": [
    "logloss_test([0,0,0,0,0,0], G, model)"
   ]
  },
  {
   "cell_type": "code",
   "execution_count": null,
   "metadata": {},
   "outputs": [],
   "source": []
  }
 ],
 "metadata": {
  "kernelspec": {
   "display_name": "Python 3",
   "language": "python",
   "name": "python3"
  },
  "language_info": {
   "codemirror_mode": {
    "name": "ipython",
    "version": 3
   },
   "file_extension": ".py",
   "mimetype": "text/x-python",
   "name": "python",
   "nbconvert_exporter": "python",
   "pygments_lexer": "ipython3",
   "version": "3.6.5"
  }
 },
 "nbformat": 4,
 "nbformat_minor": 2
}
